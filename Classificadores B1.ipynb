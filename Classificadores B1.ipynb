{
 "cells": [
  {
   "cell_type": "markdown",
   "metadata": {},
   "source": [
    "# Classificadores especialistas"
   ]
  },
  {
   "cell_type": "code",
   "execution_count": 1,
   "metadata": {},
   "outputs": [
    {
     "name": "stderr",
     "output_type": "stream",
     "text": [
      "Using TensorFlow backend.\n"
     ]
    }
   ],
   "source": [
    "import pandas as pd\n",
    "import numpy as np\n",
    "import matplotlib.pyplot as plt\n",
    "import seaborn as sns\n",
    "import itertools\n",
    "import time\n",
    "import warnings\n",
    "import collections as cll\n",
    "from keras.utils import np_utils\n",
    "from sklearn.neural_network import MLPClassifier\n",
    "from sklearn.model_selection import train_test_split\n",
    "from sklearn.tree import DecisionTreeClassifier\n",
    "from sklearn.ensemble import RandomForestClassifier\n",
    "from sklearn.naive_bayes import GaussianNB, BernoulliNB, MultinomialNB\n",
    "from sklearn.metrics import classification_report,confusion_matrix\n",
    "from sklearn.model_selection import GridSearchCV\n",
    "from sklearn.svm import SVC\n",
    "from sklearn import preprocessing\n",
    "from imblearn.over_sampling import SMOTE\n",
    "from imblearn.under_sampling import RandomUnderSampler\n",
    "warnings.filterwarnings('ignore')\n",
    "%matplotlib inline"
   ]
  },
  {
   "cell_type": "code",
   "execution_count": 6,
   "metadata": {},
   "outputs": [],
   "source": [
    "def plot_confusion_matrix(cm, classes,\n",
    "                          normalize=False,\n",
    "                          title='Confusion matrix',\n",
    "                          cmap=plt.cm.Blues):\n",
    "    fig = plt.figure()\n",
    "    if normalize:\n",
    "        cm = cm.astype('float') / cm.sum(axis=1)[:, np.newaxis]\n",
    "\n",
    "    plt.imshow(cm, interpolation='nearest', cmap=cmap)\n",
    "    plt.title(title)\n",
    "    plt.colorbar()\n",
    "    tick_marks = np.arange(len(classes))\n",
    "    plt.xticks(tick_marks, classes)\n",
    "    plt.yticks(tick_marks, classes)\n",
    "\n",
    "    fmt = '.4f' if normalize else 'd'\n",
    "    thresh = cm.max() / 2.\n",
    "    for i, j in itertools.product(range(cm.shape[0]), range(cm.shape[1])):\n",
    "        plt.text(j, i, format(cm[i, j], fmt),\n",
    "                 horizontalalignment=\"center\",\n",
    "                 color=\"white\" if cm[i, j] > thresh else \"black\")\n",
    "\n",
    "    plt.tight_layout()\n",
    "    plt.ylabel('Classe Correta')\n",
    "    plt.xlabel('Classe Prevista')\n",
    "    \n",
    "    return fig"
   ]
  },
  {
   "cell_type": "code",
   "execution_count": 11,
   "metadata": {},
   "outputs": [],
   "source": [
    "df = pd.read_csv('especialista.csv')"
   ]
  },
  {
   "cell_type": "code",
   "execution_count": 12,
   "metadata": {},
   "outputs": [
    {
     "data": {
      "text/html": [
       "<div>\n",
       "<style scoped>\n",
       "    .dataframe tbody tr th:only-of-type {\n",
       "        vertical-align: middle;\n",
       "    }\n",
       "\n",
       "    .dataframe tbody tr th {\n",
       "        vertical-align: top;\n",
       "    }\n",
       "\n",
       "    .dataframe thead th {\n",
       "        text-align: right;\n",
       "    }\n",
       "</style>\n",
       "<table border=\"1\" class=\"dataframe\">\n",
       "  <thead>\n",
       "    <tr style=\"text-align: right;\">\n",
       "      <th></th>\n",
       "      <th>variacao_lon</th>\n",
       "      <th>variacao_lat</th>\n",
       "      <th>variacao_odometro</th>\n",
       "      <th>variacao_velocidade</th>\n",
       "      <th>tensao_bateria_min</th>\n",
       "      <th>tensao_bateria_max</th>\n",
       "      <th>tensao_bateria_min_igon</th>\n",
       "      <th>tensao_bateria_max_igon</th>\n",
       "      <th>tensao_bateria_min_igoff</th>\n",
       "      <th>tensao_bateria_max_igoff</th>\n",
       "      <th>variacao_tensao_bateria</th>\n",
       "      <th>bateria_RMS</th>\n",
       "      <th>variacao_ignicao</th>\n",
       "      <th>maior_pulo_negativo_idx</th>\n",
       "      <th>maior_pulo_positivo_idx</th>\n",
       "      <th>numero_pulos_idx</th>\n",
       "      <th>quantidade_pontos_gps_valido</th>\n",
       "      <th>quantidade_pontos_gps_invalido</th>\n",
       "      <th>possui_falhas</th>\n",
       "      <th>numero_saltos_gps</th>\n",
       "    </tr>\n",
       "  </thead>\n",
       "  <tbody>\n",
       "    <tr>\n",
       "      <th>count</th>\n",
       "      <td>12586.000000</td>\n",
       "      <td>12586.000000</td>\n",
       "      <td>12586.000000</td>\n",
       "      <td>12586.000000</td>\n",
       "      <td>12586.000000</td>\n",
       "      <td>12586.000000</td>\n",
       "      <td>12586.000000</td>\n",
       "      <td>12586.000000</td>\n",
       "      <td>12586.000000</td>\n",
       "      <td>12586.000000</td>\n",
       "      <td>12586.000000</td>\n",
       "      <td>12586.000000</td>\n",
       "      <td>12586.000000</td>\n",
       "      <td>12586.000000</td>\n",
       "      <td>12586.000000</td>\n",
       "      <td>12586.000000</td>\n",
       "      <td>12586.000000</td>\n",
       "      <td>12586.000000</td>\n",
       "      <td>12586.000000</td>\n",
       "      <td>12586.000000</td>\n",
       "    </tr>\n",
       "    <tr>\n",
       "      <th>mean</th>\n",
       "      <td>0.847529</td>\n",
       "      <td>0.847211</td>\n",
       "      <td>0.712697</td>\n",
       "      <td>0.835134</td>\n",
       "      <td>0.375385</td>\n",
       "      <td>-0.284845</td>\n",
       "      <td>0.365945</td>\n",
       "      <td>0.065230</td>\n",
       "      <td>0.277914</td>\n",
       "      <td>-0.182792</td>\n",
       "      <td>-0.263626</td>\n",
       "      <td>0.146969</td>\n",
       "      <td>0.738360</td>\n",
       "      <td>-1990.098999</td>\n",
       "      <td>0.001726</td>\n",
       "      <td>0.006766</td>\n",
       "      <td>8.442915</td>\n",
       "      <td>0.322636</td>\n",
       "      <td>0.594311</td>\n",
       "      <td>0.796997</td>\n",
       "    </tr>\n",
       "    <tr>\n",
       "      <th>std</th>\n",
       "      <td>0.359491</td>\n",
       "      <td>0.359798</td>\n",
       "      <td>0.452522</td>\n",
       "      <td>0.371074</td>\n",
       "      <td>0.853724</td>\n",
       "      <td>0.464951</td>\n",
       "      <td>1.047186</td>\n",
       "      <td>0.416305</td>\n",
       "      <td>1.159674</td>\n",
       "      <td>0.597470</td>\n",
       "      <td>0.511891</td>\n",
       "      <td>1.015159</td>\n",
       "      <td>0.439545</td>\n",
       "      <td>9420.259365</td>\n",
       "      <td>0.050113</td>\n",
       "      <td>0.075267</td>\n",
       "      <td>20.669104</td>\n",
       "      <td>0.881408</td>\n",
       "      <td>0.491044</td>\n",
       "      <td>2.513852</td>\n",
       "    </tr>\n",
       "    <tr>\n",
       "      <th>min</th>\n",
       "      <td>0.000000</td>\n",
       "      <td>0.000000</td>\n",
       "      <td>0.000000</td>\n",
       "      <td>0.000000</td>\n",
       "      <td>-9.356725</td>\n",
       "      <td>-1.752266</td>\n",
       "      <td>-12.444444</td>\n",
       "      <td>-0.477742</td>\n",
       "      <td>-9.062003</td>\n",
       "      <td>-1.600000</td>\n",
       "      <td>-0.987564</td>\n",
       "      <td>-2.781875</td>\n",
       "      <td>0.000000</td>\n",
       "      <td>-65535.000000</td>\n",
       "      <td>0.000000</td>\n",
       "      <td>0.000000</td>\n",
       "      <td>0.000000</td>\n",
       "      <td>-0.435819</td>\n",
       "      <td>0.000000</td>\n",
       "      <td>0.000000</td>\n",
       "    </tr>\n",
       "    <tr>\n",
       "      <th>25%</th>\n",
       "      <td>1.000000</td>\n",
       "      <td>1.000000</td>\n",
       "      <td>0.000000</td>\n",
       "      <td>1.000000</td>\n",
       "      <td>0.000000</td>\n",
       "      <td>-0.879758</td>\n",
       "      <td>0.000000</td>\n",
       "      <td>-0.477742</td>\n",
       "      <td>-0.397456</td>\n",
       "      <td>-0.666667</td>\n",
       "      <td>-0.854792</td>\n",
       "      <td>-0.444040</td>\n",
       "      <td>0.000000</td>\n",
       "      <td>0.000000</td>\n",
       "      <td>0.000000</td>\n",
       "      <td>0.000000</td>\n",
       "      <td>0.000000</td>\n",
       "      <td>-0.301307</td>\n",
       "      <td>0.000000</td>\n",
       "      <td>0.000000</td>\n",
       "    </tr>\n",
       "    <tr>\n",
       "      <th>50%</th>\n",
       "      <td>1.000000</td>\n",
       "      <td>1.000000</td>\n",
       "      <td>1.000000</td>\n",
       "      <td>1.000000</td>\n",
       "      <td>0.000000</td>\n",
       "      <td>0.000000</td>\n",
       "      <td>0.000000</td>\n",
       "      <td>-0.003548</td>\n",
       "      <td>0.000000</td>\n",
       "      <td>0.000000</td>\n",
       "      <td>0.000000</td>\n",
       "      <td>-0.000370</td>\n",
       "      <td>1.000000</td>\n",
       "      <td>0.000000</td>\n",
       "      <td>0.000000</td>\n",
       "      <td>0.000000</td>\n",
       "      <td>0.000000</td>\n",
       "      <td>-0.004612</td>\n",
       "      <td>1.000000</td>\n",
       "      <td>0.000000</td>\n",
       "    </tr>\n",
       "    <tr>\n",
       "      <th>75%</th>\n",
       "      <td>1.000000</td>\n",
       "      <td>1.000000</td>\n",
       "      <td>1.000000</td>\n",
       "      <td>1.000000</td>\n",
       "      <td>1.000835</td>\n",
       "      <td>0.120846</td>\n",
       "      <td>1.000000</td>\n",
       "      <td>0.522258</td>\n",
       "      <td>0.602544</td>\n",
       "      <td>0.333333</td>\n",
       "      <td>0.146306</td>\n",
       "      <td>0.556198</td>\n",
       "      <td>1.000000</td>\n",
       "      <td>0.000000</td>\n",
       "      <td>0.000000</td>\n",
       "      <td>0.000000</td>\n",
       "      <td>1.066667</td>\n",
       "      <td>0.694850</td>\n",
       "      <td>1.000000</td>\n",
       "      <td>0.000000</td>\n",
       "    </tr>\n",
       "    <tr>\n",
       "      <th>max</th>\n",
       "      <td>1.000000</td>\n",
       "      <td>1.000000</td>\n",
       "      <td>1.000000</td>\n",
       "      <td>1.000000</td>\n",
       "      <td>2.589808</td>\n",
       "      <td>0.120846</td>\n",
       "      <td>3.444444</td>\n",
       "      <td>0.522258</td>\n",
       "      <td>3.577107</td>\n",
       "      <td>0.466667</td>\n",
       "      <td>3.108998</td>\n",
       "      <td>11.017201</td>\n",
       "      <td>1.000000</td>\n",
       "      <td>0.000000</td>\n",
       "      <td>4.000000</td>\n",
       "      <td>4.000000</td>\n",
       "      <td>214.666667</td>\n",
       "      <td>10.471176</td>\n",
       "      <td>1.000000</td>\n",
       "      <td>12.000000</td>\n",
       "    </tr>\n",
       "  </tbody>\n",
       "</table>\n",
       "</div>"
      ],
      "text/plain": [
       "       variacao_lon  variacao_lat  variacao_odometro  variacao_velocidade  \\\n",
       "count  12586.000000  12586.000000       12586.000000         12586.000000   \n",
       "mean       0.847529      0.847211           0.712697             0.835134   \n",
       "std        0.359491      0.359798           0.452522             0.371074   \n",
       "min        0.000000      0.000000           0.000000             0.000000   \n",
       "25%        1.000000      1.000000           0.000000             1.000000   \n",
       "50%        1.000000      1.000000           1.000000             1.000000   \n",
       "75%        1.000000      1.000000           1.000000             1.000000   \n",
       "max        1.000000      1.000000           1.000000             1.000000   \n",
       "\n",
       "       tensao_bateria_min  tensao_bateria_max  tensao_bateria_min_igon  \\\n",
       "count        12586.000000        12586.000000             12586.000000   \n",
       "mean             0.375385           -0.284845                 0.365945   \n",
       "std              0.853724            0.464951                 1.047186   \n",
       "min             -9.356725           -1.752266               -12.444444   \n",
       "25%              0.000000           -0.879758                 0.000000   \n",
       "50%              0.000000            0.000000                 0.000000   \n",
       "75%              1.000835            0.120846                 1.000000   \n",
       "max              2.589808            0.120846                 3.444444   \n",
       "\n",
       "       tensao_bateria_max_igon  tensao_bateria_min_igoff  \\\n",
       "count             12586.000000              12586.000000   \n",
       "mean                  0.065230                  0.277914   \n",
       "std                   0.416305                  1.159674   \n",
       "min                  -0.477742                 -9.062003   \n",
       "25%                  -0.477742                 -0.397456   \n",
       "50%                  -0.003548                  0.000000   \n",
       "75%                   0.522258                  0.602544   \n",
       "max                   0.522258                  3.577107   \n",
       "\n",
       "       tensao_bateria_max_igoff  variacao_tensao_bateria   bateria_RMS  \\\n",
       "count              12586.000000             12586.000000  12586.000000   \n",
       "mean                  -0.182792                -0.263626      0.146969   \n",
       "std                    0.597470                 0.511891      1.015159   \n",
       "min                   -1.600000                -0.987564     -2.781875   \n",
       "25%                   -0.666667                -0.854792     -0.444040   \n",
       "50%                    0.000000                 0.000000     -0.000370   \n",
       "75%                    0.333333                 0.146306      0.556198   \n",
       "max                    0.466667                 3.108998     11.017201   \n",
       "\n",
       "       variacao_ignicao  maior_pulo_negativo_idx  maior_pulo_positivo_idx  \\\n",
       "count      12586.000000             12586.000000             12586.000000   \n",
       "mean           0.738360             -1990.098999                 0.001726   \n",
       "std            0.439545              9420.259365                 0.050113   \n",
       "min            0.000000            -65535.000000                 0.000000   \n",
       "25%            0.000000                 0.000000                 0.000000   \n",
       "50%            1.000000                 0.000000                 0.000000   \n",
       "75%            1.000000                 0.000000                 0.000000   \n",
       "max            1.000000                 0.000000                 4.000000   \n",
       "\n",
       "       numero_pulos_idx  quantidade_pontos_gps_valido  \\\n",
       "count      12586.000000                  12586.000000   \n",
       "mean           0.006766                      8.442915   \n",
       "std            0.075267                     20.669104   \n",
       "min            0.000000                      0.000000   \n",
       "25%            0.000000                      0.000000   \n",
       "50%            0.000000                      0.000000   \n",
       "75%            0.000000                      1.066667   \n",
       "max            4.000000                    214.666667   \n",
       "\n",
       "       quantidade_pontos_gps_invalido  possui_falhas  numero_saltos_gps  \n",
       "count                    12586.000000   12586.000000       12586.000000  \n",
       "mean                         0.322636       0.594311           0.796997  \n",
       "std                          0.881408       0.491044           2.513852  \n",
       "min                         -0.435819       0.000000           0.000000  \n",
       "25%                         -0.301307       0.000000           0.000000  \n",
       "50%                         -0.004612       1.000000           0.000000  \n",
       "75%                          0.694850       1.000000           0.000000  \n",
       "max                         10.471176       1.000000          12.000000  "
      ]
     },
     "execution_count": 12,
     "metadata": {},
     "output_type": "execute_result"
    }
   ],
   "source": [
    "df.describe()"
   ]
  },
  {
   "cell_type": "markdown",
   "metadata": {},
   "source": [
    "## Definindo conjuntos de treinamento e teste"
   ]
  },
  {
   "cell_type": "code",
   "execution_count": 13,
   "metadata": {},
   "outputs": [
    {
     "data": {
      "text/plain": [
       "Index(['variacao_lon', 'variacao_lat', 'variacao_odometro',\n",
       "       'variacao_velocidade', 'tensao_bateria_min', 'tensao_bateria_max',\n",
       "       'tensao_bateria_min_igon', 'tensao_bateria_max_igon',\n",
       "       'tensao_bateria_min_igoff', 'tensao_bateria_max_igoff',\n",
       "       'variacao_tensao_bateria', 'bateria_RMS', 'variacao_ignicao',\n",
       "       'maior_pulo_negativo_idx', 'maior_pulo_positivo_idx',\n",
       "       'numero_pulos_idx', 'quantidade_pontos_gps_valido',\n",
       "       'quantidade_pontos_gps_invalido', 'falhas', 'possui_falhas',\n",
       "       'numero_saltos_gps'],\n",
       "      dtype='object')"
      ]
     },
     "execution_count": 13,
     "metadata": {},
     "output_type": "execute_result"
    }
   ],
   "source": [
    "df.columns"
   ]
  },
  {
   "cell_type": "code",
   "execution_count": 14,
   "metadata": {},
   "outputs": [],
   "source": [
    "#X = df.drop(['serial', 'data', 'hora_ultimo_ponto', 'hora_primeiro_ponto', 'possui_falhas'], axis = 1)\n",
    "X = df.drop(['falhas', 'possui_falhas'], axis = 1)\n",
    "features = X.columns\n",
    "y = df['possui_falhas']\n",
    "#classes = ['Flawless','With Flaw']\n",
    "classes = ['Com falha','Sem falha']"
   ]
  },
  {
   "cell_type": "markdown",
   "metadata": {},
   "source": [
    "# Undersampling"
   ]
  },
  {
   "cell_type": "code",
   "execution_count": 15,
   "metadata": {},
   "outputs": [],
   "source": [
    "rus = RandomUnderSampler(random_state=42)\n",
    "X, y = rus.fit_sample(X, y)\n",
    "X_train, X_test, y_train, y_test = train_test_split(X, y, test_size=0.2, random_state = 42)"
   ]
  },
  {
   "cell_type": "markdown",
   "metadata": {},
   "source": [
    "# Oversampling"
   ]
  },
  {
   "cell_type": "code",
   "execution_count": 16,
   "metadata": {
    "scrolled": true
   },
   "outputs": [],
   "source": [
    "sm = SMOTE(random_state=42)\n",
    "X_train, X_test, y_train, y_test = train_test_split(X, y, test_size=0.2, random_state = 42)\n",
    "X_train, y_train = sm.fit_sample(X_train, y_train)"
   ]
  },
  {
   "cell_type": "code",
   "execution_count": 17,
   "metadata": {},
   "outputs": [
    {
     "data": {
      "text/plain": [
       "(8220, 19)"
      ]
     },
     "execution_count": 17,
     "metadata": {},
     "output_type": "execute_result"
    }
   ],
   "source": [
    "X_train.shape"
   ]
  },
  {
   "cell_type": "code",
   "execution_count": 18,
   "metadata": {},
   "outputs": [
    {
     "data": {
      "text/plain": [
       "(2043, 19)"
      ]
     },
     "execution_count": 18,
     "metadata": {},
     "output_type": "execute_result"
    }
   ],
   "source": [
    "X_test.shape"
   ]
  },
  {
   "cell_type": "markdown",
   "metadata": {},
   "source": [
    "## Random Forest"
   ]
  },
  {
   "cell_type": "code",
   "execution_count": 22,
   "metadata": {},
   "outputs": [
    {
     "name": "stdout",
     "output_type": "stream",
     "text": [
      "CPU times: user 492 ms, sys: 10.8 ms, total: 503 ms\n",
      "Wall time: 502 ms\n"
     ]
    }
   ],
   "source": [
    "%%time\n",
    "rfc = RandomForestClassifier(n_estimators=100)\n",
    "rfc.fit(X_train,y_train)"
   ]
  },
  {
   "cell_type": "code",
   "execution_count": 23,
   "metadata": {},
   "outputs": [
    {
     "name": "stdout",
     "output_type": "stream",
     "text": [
      "              precision    recall  f1-score   support\n",
      "\n",
      "           0     1.0000    0.9914    0.9957      1047\n",
      "           1     0.9910    1.0000    0.9955       996\n",
      "\n",
      "   micro avg     0.9956    0.9956    0.9956      2043\n",
      "   macro avg     0.9955    0.9957    0.9956      2043\n",
      "weighted avg     0.9956    0.9956    0.9956      2043\n",
      "\n",
      "CPU times: user 85.9 ms, sys: 138 µs, total: 86.1 ms\n",
      "Wall time: 84.7 ms\n"
     ]
    },
    {
     "data": {
      "image/png": "[encoded data removed]",
      "text/plain": [
       "<Figure size 432x288 with 2 Axes>"
      ]
     },
     "metadata": {
      "needs_background": "light"
     },
     "output_type": "display_data"
    }
   ],
   "source": [
    "%%time\n",
    "predictionsRF = rfc.predict(X_test)\n",
    "print(classification_report(y_test,predictionsRF,digits=4))\n",
    "cm = confusion_matrix(y_test,predictionsRF)\n",
    "cm_plot = plot_confusion_matrix(cm, classes, normalize=True, title='')"
   ]
  },
  {
   "cell_type": "code",
   "execution_count": 24,
   "metadata": {},
   "outputs": [
    {
     "data": {
      "image/png": "[encoded data removed]",
      "text/plain": [
       "<Figure size 432x288 with 1 Axes>"
      ]
     },
     "metadata": {
      "needs_background": "light"
     },
     "output_type": "display_data"
    }
   ],
   "source": [
    "importances = rfc.feature_importances_\n",
    "indices = np.argsort(importances)\n",
    "# Print the top 15 feature ranking\n",
    "quant = 15\n",
    "plt.barh(range(quant), importances[indices][-quant:], color='b', align='center')\n",
    "plt.yticks(range(quant), [features[i] for i in indices[-quant:]])\n",
    "plt.xlabel('Importânca relativa')\n",
    "plt.show()"
   ]
  },
  {
   "cell_type": "code",
   "execution_count": 25,
   "metadata": {},
   "outputs": [
    {
     "name": "stdout",
     "output_type": "stream",
     "text": [
      "              precision    recall  f1-score   support\n",
      "\n",
      "           0     1.0000    1.0000    1.0000      4110\n",
      "           1     1.0000    1.0000    1.0000      4110\n",
      "\n",
      "   micro avg     1.0000    1.0000    1.0000      8220\n",
      "   macro avg     1.0000    1.0000    1.0000      8220\n",
      "weighted avg     1.0000    1.0000    1.0000      8220\n",
      "\n"
     ]
    },
    {
     "data": {
      "image/png": "[encoded data removed]",
      "text/plain": [
       "<Figure size 432x288 with 2 Axes>"
      ]
     },
     "metadata": {
      "needs_background": "light"
     },
     "output_type": "display_data"
    }
   ],
   "source": [
    "pred_underfitting = rfc.predict(X_train)\n",
    "print(classification_report(y_train,pred_underfitting,digits=4))\n",
    "cm = confusion_matrix(y_train,pred_underfitting)\n",
    "cm_plot = plot_confusion_matrix(cm, classes, normalize=True, title='')"
   ]
  },
  {
   "cell_type": "markdown",
   "metadata": {},
   "source": [
    "## Naive Bayes"
   ]
  },
  {
   "cell_type": "code",
   "execution_count": 27,
   "metadata": {},
   "outputs": [
    {
     "name": "stdout",
     "output_type": "stream",
     "text": [
      "CPU times: user 5.78 ms, sys: 138 µs, total: 5.92 ms\n",
      "Wall time: 4.7 ms\n"
     ]
    }
   ],
   "source": [
    "%%time\n",
    "bnb = BernoulliNB()\n",
    "bnb.fit(X_train,y_train)"
   ]
  },
  {
   "cell_type": "code",
   "execution_count": 28,
   "metadata": {},
   "outputs": [
    {
     "name": "stdout",
     "output_type": "stream",
     "text": [
      "              precision    recall  f1-score   support\n",
      "\n",
      "           0     0.8277    0.8118    0.8197      1047\n",
      "           1     0.8061    0.8223    0.8141       996\n",
      "\n",
      "   micro avg     0.8169    0.8169    0.8169      2043\n",
      "   macro avg     0.8169    0.8171    0.8169      2043\n",
      "weighted avg     0.8171    0.8169    0.8170      2043\n",
      "\n",
      "CPU times: user 675 ms, sys: 0 ns, total: 675 ms\n",
      "Wall time: 171 ms\n"
     ]
    },
    {
     "data": {
      "image/png": "[encoded data removed]",
      "text/plain": [
       "<Figure size 432x288 with 2 Axes>"
      ]
     },
     "metadata": {
      "needs_background": "light"
     },
     "output_type": "display_data"
    }
   ],
   "source": [
    "%%time\n",
    "predictionsNB = bnb.predict(X_test)\n",
    "print(classification_report(y_test,predictionsNB,digits=4))\n",
    "cm = confusion_matrix(y_test,predictionsNB)\n",
    "cm_plot = plot_confusion_matrix(cm, classes, normalize=True, title='')"
   ]
  },
  {
   "cell_type": "code",
   "execution_count": 29,
   "metadata": {},
   "outputs": [
    {
     "name": "stdout",
     "output_type": "stream",
     "text": [
      "              precision    recall  f1-score   support\n",
      "\n",
      "           0     0.8137    0.8219    0.8177      4059\n",
      "           1     0.8223    0.8141    0.8182      4110\n",
      "\n",
      "   micro avg     0.8180    0.8180    0.8180      8169\n",
      "   macro avg     0.8180    0.8180    0.8180      8169\n",
      "weighted avg     0.8180    0.8180    0.8180      8169\n",
      "\n",
      "CPU times: user 686 ms, sys: 7.69 ms, total: 693 ms\n",
      "Wall time: 177 ms\n"
     ]
    },
    {
     "data": {
      "image/png": "[encoded data removed]",
      "text/plain": [
       "<Figure size 432x288 with 2 Axes>"
      ]
     },
     "metadata": {
      "needs_background": "light"
     },
     "output_type": "display_data"
    }
   ],
   "source": [
    "%%time\n",
    "predictionsNB = bnb.predict(X_train)\n",
    "print(classification_report(y_train,predictionsNB,digits=4))\n",
    "cm = confusion_matrix(y_train,predictionsNB)\n",
    "cm_plot = plot_confusion_matrix(cm, classes, normalize=True, title='')"
   ]
  },
  {
   "cell_type": "markdown",
   "metadata": {},
   "source": [
    "## SVM"
   ]
  },
  {
   "cell_type": "code",
   "execution_count": 30,
   "metadata": {},
   "outputs": [],
   "source": [
    "param_grid = {'C': [0.1, 1, 10, 100, 1000], 'gamma': [10, 1, 0.1, 0.01, 0.001], 'kernel': ['rbf']} "
   ]
  },
  {
   "cell_type": "code",
   "execution_count": 31,
   "metadata": {},
   "outputs": [
    {
     "name": "stdout",
     "output_type": "stream",
     "text": [
      "CPU times: user 5min 39s, sys: 451 ms, total: 5min 40s\n",
      "Wall time: 5min 40s\n"
     ]
    }
   ],
   "source": [
    "%%time\n",
    "grid = GridSearchCV(SVC(),param_grid,refit=True,verbose=0)\n",
    "grid.fit(X_train,y_train)"
   ]
  },
  {
   "cell_type": "code",
   "execution_count": 32,
   "metadata": {},
   "outputs": [
    {
     "name": "stdout",
     "output_type": "stream",
     "text": [
      "              precision    recall  f1-score   support\n",
      "\n",
      "           0     0.8699    0.9838    0.9234      1047\n",
      "           1     0.9802    0.8454    0.9078       996\n",
      "\n",
      "   micro avg     0.9163    0.9163    0.9163      2043\n",
      "   macro avg     0.9251    0.9146    0.9156      2043\n",
      "weighted avg     0.9237    0.9163    0.9158      2043\n",
      "\n",
      "CPU times: user 342 ms, sys: 4 ms, total: 346 ms\n",
      "Wall time: 360 ms\n"
     ]
    },
    {
     "data": {
      "image/png": "[encoded data removed]",
      "text/plain": [
       "<Figure size 432x288 with 2 Axes>"
      ]
     },
     "metadata": {
      "needs_background": "light"
     },
     "output_type": "display_data"
    }
   ],
   "source": [
    "%%time\n",
    "predictionsSVM = grid.predict(X_test)\n",
    "print(classification_report(y_test,predictionsSVM,digits=4))\n",
    "cm = confusion_matrix(y_test,predictionsSVM)\n",
    "cm_plot = plot_confusion_matrix(cm, classes, normalize=True, title='')"
   ]
  },
  {
   "cell_type": "code",
   "execution_count": 24,
   "metadata": {},
   "outputs": [
    {
     "data": {
      "text/plain": [
       "{'C': 1000, 'gamma': 0.01, 'kernel': 'rbf'}"
      ]
     },
     "execution_count": 24,
     "metadata": {},
     "output_type": "execute_result"
    }
   ],
   "source": [
    "grid.best_params_"
   ]
  },
  {
   "cell_type": "markdown",
   "metadata": {},
   "source": [
    "# MLP"
   ]
  },
  {
   "cell_type": "code",
   "execution_count": 25,
   "metadata": {},
   "outputs": [
    {
     "name": "stdout",
     "output_type": "stream",
     "text": [
      "CPU times: user 5.53 s, sys: 10.7 s, total: 16.2 s\n",
      "Wall time: 2.62 s\n"
     ]
    }
   ],
   "source": [
    "%%time\n",
    "mlp = MLPClassifier(solver='lbfgs', alpha=1e-5, hidden_layer_sizes=(5, 10, 5), random_state=1,early_stopping=True)\n",
    "mlp.fit(X_train, y_train)"
   ]
  },
  {
   "cell_type": "code",
   "execution_count": 26,
   "metadata": {},
   "outputs": [
    {
     "name": "stdout",
     "output_type": "stream",
     "text": [
      "              precision    recall  f1-score   support\n",
      "\n",
      "           0     0.9637    0.9912    0.9773      1019\n",
      "           1     0.9939    0.9746    0.9842      1499\n",
      "\n",
      "   micro avg     0.9813    0.9813    0.9813      2518\n",
      "   macro avg     0.9788    0.9829    0.9807      2518\n",
      "weighted avg     0.9817    0.9813    0.9814      2518\n",
      "\n",
      "CPU times: user 559 ms, sys: 627 ms, total: 1.19 s\n",
      "Wall time: 333 ms\n"
     ]
    },
    {
     "data": {
      "image/png": "[encoded data removed]",
      "text/plain": [
       "<Figure size 432x288 with 2 Axes>"
      ]
     },
     "metadata": {
      "needs_background": "light"
     },
     "output_type": "display_data"
    }
   ],
   "source": [
    "%%time\n",
    "predictionsMLP = mlp.predict(X_test)\n",
    "print(classification_report(y_test,predictionsMLP,digits=4))\n",
    "cm = confusion_matrix(y_test,predictionsMLP)\n",
    "cm_plot = plot_confusion_matrix(cm, classes, normalize=True, title='')"
   ]
  },
  {
   "cell_type": "code",
   "execution_count": 27,
   "metadata": {},
   "outputs": [
    {
     "name": "stdout",
     "output_type": "stream",
     "text": [
      "              precision    recall  f1-score   support\n",
      "\n",
      "           0     0.9694    0.9968    0.9829      5981\n",
      "           1     0.9967    0.9686    0.9824      5981\n",
      "\n",
      "   micro avg     0.9827    0.9827    0.9827     11962\n",
      "   macro avg     0.9831    0.9827    0.9827     11962\n",
      "weighted avg     0.9831    0.9827    0.9827     11962\n",
      "\n"
     ]
    },
    {
     "data": {
      "image/png": "[encoded data removed]",
      "text/plain": [
       "<Figure size 432x288 with 2 Axes>"
      ]
     },
     "metadata": {
      "needs_background": "light"
     },
     "output_type": "display_data"
    }
   ],
   "source": [
    "predictionsMLP = mlp.predict(X_train)\n",
    "print(classification_report(y_train,predictionsMLP,digits=4))\n",
    "cm = confusion_matrix(y_train,predictionsMLP)\n",
    "cm_plot = plot_confusion_matrix(cm, classes, normalize=True, title='')"
   ]
  }
 ],
 "metadata": {
  "kernelspec": {
   "display_name": "Python [conda env:dl]",
   "language": "python",
   "name": "conda-env-dl-py"
  },
  "language_info": {
   "codemirror_mode": {
    "name": "ipython",
    "version": 3
   },
   "file_extension": ".py",
   "mimetype": "text/x-python",
   "name": "python",
   "nbconvert_exporter": "python",
   "pygments_lexer": "ipython3",
   "version": "3.6.8"
  }
 },
 "nbformat": 4,
 "nbformat_minor": 2
}
