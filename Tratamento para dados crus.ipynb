{
 "cells": [
  {
   "cell_type": "code",
   "execution_count": null,
   "metadata": {},
   "outputs": [],
   "source": [
    "import glob\n",
    "import pandas as pd\n",
    "import numpy as np\n",
    "import time\n",
    "import warnings\n",
    "import math\n",
    "import os\n",
    "from numpy import array\n",
    "from sklearn import preprocessing\n",
    "\n",
    "warnings.filterwarnings('ignore')"
   ]
  },
  {
   "cell_type": "code",
   "execution_count": null,
   "metadata": {},
   "outputs": [],
   "source": [
    "%%time\n",
    "# Lendo e jogando fora dados nao importantes\n",
    "path = 'dados/positions/'\n",
    "all_files = glob.glob(os.path.join(path, '*.csv'))\n",
    "dados = []\n",
    "for i in range(n):\n",
    "    df = pd.read_csv(all_files[i])\n",
    "    dados.append(df)\n",
    "    dados[i].drop(dados[i].columns.difference(['latitude',\n",
    "                               'longitude',\n",
    "                               'velocidade',\n",
    "                               'ignicao',\n",
    "                               'odometro',\n",
    "                               'bateria',\n",
    "                               'idx_memoria',\n",
    "                               'sinal_gps']), axis = 1, inplace=True)\n",
    "col = dados[0].columns"
   ]
  },
  {
   "cell_type": "code",
   "execution_count": null,
   "metadata": {},
   "outputs": [],
   "source": [
    "# Completando com zeros (padding)\n",
    "dim = 0\n",
    "for i in range(n):\n",
    "    if len(dados[i]) > dim:\n",
    "        dim = len(dados[i])\n",
    "        index = i\n",
    "# dim = 6410\n",
    "for i in range(n):\n",
    "    pad = np.zeros((dim - len(dados[i]),len(col)))\n",
    "    dados[i].append(pd.DataFrame(pad, columns=dados[0].columns)).to_csv('dados/cruzao_padded/' + str(i) + '.csv')\n",
    "    print(i)"
   ]
  },
  {
   "cell_type": "code",
   "execution_count": null,
   "metadata": {},
   "outputs": [],
   "source": [
    "for i in range(n):\n",
    "    dados[i]['sinal_gps'] = dados[i]['sinal_gps']*1\n",
    "    dados[i]['ignicao'] = dados[i]['ignicao']*1"
   ]
  },
  {
   "cell_type": "code",
   "execution_count": null,
   "metadata": {},
   "outputs": [],
   "source": [
    "for i in range(n):\n",
    "    for j in range(len(dados[i])):\n",
    "        if dados[i]['ignicao'][j] == 'false':\n",
    "            dados[i]['ignicao'][j] = 0\n",
    "        elif dados[i]['ignicao'][j] == 'true':\n",
    "            dados[i]['ignicao'][j] = 1\n",
    "\n",
    "    dados[i].to_csv('dados/positions_padded/' + str(i) + '.csv')        "
   ]
  },
  {
   "cell_type": "code",
   "execution_count": null,
   "metadata": {},
   "outputs": [],
   "source": []
  }
 ],
 "metadata": {
  "kernelspec": {
   "display_name": "Python [conda env:dl]",
   "language": "python",
   "name": "conda-env-dl-py"
  },
  "language_info": {
   "codemirror_mode": {
    "name": "ipython",
    "version": 3
   },
   "file_extension": ".py",
   "mimetype": "text/x-python",
   "name": "python",
   "nbconvert_exporter": "python",
   "pygments_lexer": "ipython3",
   "version": "3.6.8"
  }
 },
 "nbformat": 4,
 "nbformat_minor": 2
}
