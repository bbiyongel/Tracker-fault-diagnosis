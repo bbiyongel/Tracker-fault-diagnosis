{
 "cells": [
  {
   "cell_type": "code",
   "execution_count": 1,
   "metadata": {},
   "outputs": [
    {
     "name": "stderr",
     "output_type": "stream",
     "text": [
      "Using TensorFlow backend.\n"
     ]
    }
   ],
   "source": [
    "import warnings\n",
    "warnings.filterwarnings('ignore')\n",
    "import numpy as np\n",
    "import pandas as pd\n",
    "import keras\n",
    "import matplotlib.pyplot as plt\n",
    "import seaborn as sns\n",
    "import collections as cll\n",
    "import itertools\n",
    "import glob\n",
    "import os\n",
    "from sklearn.model_selection import train_test_split\n",
    "from keras.utils import np_utils\n",
    "from keras.models import Sequential\n",
    "from keras import regularizers\n",
    "from keras.layers import Dense, Dropout, Activation, Conv2D, Flatten, BatchNormalization, AveragePooling2D, LSTM\n",
    "from keras.optimizers import SGD\n",
    "from keras.optimizers import Adam, Nadam, Adadelta\n",
    "from keras.models import load_model\n",
    "from sklearn.metrics import classification_report,confusion_matrix\n",
    "from keras.datasets import mnist\n",
    "from keras.utils import Sequence\n",
    "from keras.preprocessing.sequence import pad_sequences\n",
    "\n",
    "class My_generator(Sequence):\n",
    "    def __init__(self, x_set_dir, y_set, batch_size):\n",
    "        self.x, self.y = x_set_dir, y_set\n",
    "        self.batch_size = batch_size\n",
    "        \n",
    "    def __len__(self):\n",
    "        return int(np.ceil(len(self.x) / float(self.batch_size)))\n",
    "    \n",
    "    def __getitem__(self, idx):\n",
    "        batch_x = self.x[idx * self.batch_size:(idx + 1) * self.batch_size]\n",
    "        batch_y = self.y[idx * self.batch_size:(idx + 1) * self.batch_size]\n",
    "        # read your data here using the batch lists, batch_x and batch_y\n",
    "        x = [np.load(filename) for filename in batch_x]\n",
    "        y = [np.load(filename) for filename in batch_y]\n",
    "    \n",
    "        return np.array(x).reshape(self.batch_size,1,n_sample,n_feat), np.array(y) "
   ]
  },
  {
   "cell_type": "code",
   "execution_count": 2,
   "metadata": {},
   "outputs": [],
   "source": [
    "def plot_confusion_matrix(cm, classes,\n",
    "                          normalize=False,\n",
    "                          title='Confusion matrix',\n",
    "                          cmap=plt.cm.Blues):\n",
    "    fig = plt.figure()\n",
    "    if normalize:\n",
    "        cm = cm.astype('float') / cm.sum(axis=1)[:, np.newaxis]\n",
    "\n",
    "    plt.imshow(cm, interpolation='nearest', cmap=cmap)\n",
    "    plt.title(title)\n",
    "    plt.colorbar()\n",
    "    tick_marks = np.arange(len(classes))\n",
    "    plt.xticks(tick_marks, classes)\n",
    "    plt.yticks(tick_marks, classes)\n",
    "\n",
    "    fmt = '.4f' if normalize else 'd'\n",
    "    thresh = cm.max() / 2.\n",
    "    for i, j in itertools.product(range(cm.shape[0]), range(cm.shape[1])):\n",
    "        plt.text(j, i, format(cm[i, j], fmt),\n",
    "                 horizontalalignment=\"center\",\n",
    "                 color=\"white\" if cm[i, j] > thresh else \"black\")\n",
    "\n",
    "    plt.tight_layout()\n",
    "    plt.ylabel('Classe correta')\n",
    "    plt.xlabel('Classe prevista')\n",
    "    \n",
    "    return fig"
   ]
  },
  {
   "cell_type": "code",
   "execution_count": 3,
   "metadata": {},
   "outputs": [],
   "source": [
    "n_sample, n_feat = 6410, 8\n",
    "n_classes = 2\n",
    "input_shape = (1,n_sample,n_feat)"
   ]
  },
  {
   "cell_type": "markdown",
   "metadata": {},
   "source": [
    "# B1"
   ]
  },
  {
   "cell_type": "code",
   "execution_count": 4,
   "metadata": {},
   "outputs": [],
   "source": [
    "train_path = glob.glob(os.path.join('dados/cruzinhoB1/train/', '*.npy'))\n",
    "test_path = glob.glob(os.path.join('dados/cruzinhoB1/test', '*.npy'))\n",
    "y_train_dir = glob.glob(os.path.join('dados/cruzinhoB1/B1_y_train/', '*.npy'))\n",
    "y_test_dir = glob.glob(os.path.join('dados/cruzinhoB1/B1_y_test/', '*.npy'))"
   ]
  },
  {
   "cell_type": "code",
   "execution_count": 5,
   "metadata": {},
   "outputs": [
    {
     "name": "stdout",
     "output_type": "stream",
     "text": [
      "8169\n",
      "2043\n"
     ]
    }
   ],
   "source": [
    "print(len(train_path))\n",
    "print(len(test_path))"
   ]
  },
  {
   "cell_type": "code",
   "execution_count": 6,
   "metadata": {},
   "outputs": [],
   "source": [
    "batch_size_train = 3\n",
    "batch_size_test = 3\n",
    "my_training_batch_generator = My_generator(train_path, y_train_dir, batch_size_train)\n",
    "my_validation_batch_generator = My_generator(test_path, y_test_dir, batch_size_test)"
   ]
  },
  {
   "cell_type": "code",
   "execution_count": 7,
   "metadata": {},
   "outputs": [],
   "source": [
    "def cnn_model(input_dim, n_classes, init,drop):\n",
    "    model = Sequential()\n",
    "    model.add(Conv2D(256, (3,3), strides=1, kernel_initializer=init , padding='same', activation='relu', input_shape=input_dim))\n",
    "    model.add(Conv2D(256, (3,3), strides=1, kernel_initializer=init , padding='same', activation='relu'))\n",
    "    model.add(AveragePooling2D(pool_size=(1,9)))\n",
    "    model.add(Dropout(drop))\n",
    "    \n",
    "    model.add(Conv2D(512, (3,3), strides=1, kernel_initializer=init , padding='same', activation='relu'))\n",
    "    model.add(Conv2D(512, (3,3), strides=1, kernel_initializer=init , padding='same', activation='relu'))\n",
    "    model.add(AveragePooling2D(pool_size=(1,6)))\n",
    "    model.add(Dropout(drop))\n",
    "    \n",
    "    model.add(Conv2D(768, (3,3), strides=1, kernel_initializer=init , padding='same', activation='relu'))\n",
    "    model.add(Conv2D(768, (3,3), strides=1, kernel_initializer=init , padding='same', activation='relu'))\n",
    "    model.add(AveragePooling2D(pool_size=(1,4)))\n",
    "    model.add(Dropout(drop))\n",
    "    \n",
    "    model.add(Conv2D(1024, (3,3), strides=1, kernel_initializer=init , padding='same', activation='relu'))\n",
    "    model.add(Conv2D(1024, (3,3), strides=1, kernel_initializer=init , padding='same', activation='relu'))\n",
    "    model.add(AveragePooling2D(pool_size=(1,3)))\n",
    "    model.add(Dropout(drop))\n",
    "    \n",
    "    model.add(Flatten())\n",
    "    model.add(Dense(4096, kernel_initializer=init , activation='relu'))\n",
    "    model.add(Dropout(drop*6))\n",
    "\n",
    "    model.add(Dense(768, kernel_initializer=init , activation='relu'))\n",
    "    model.add(Dropout(drop*2))\n",
    "\n",
    "    return model"
   ]
  },
  {
   "cell_type": "code",
   "execution_count": 8,
   "metadata": {},
   "outputs": [
    {
     "name": "stdout",
     "output_type": "stream",
     "text": [
      "_________________________________________________________________\n",
      "Layer (type)                 Output Shape              Param #   \n",
      "=================================================================\n",
      "conv2d_1 (Conv2D)            (None, 1, 6410, 256)      18688     \n",
      "_________________________________________________________________\n",
      "conv2d_2 (Conv2D)            (None, 1, 6410, 256)      590080    \n",
      "_________________________________________________________________\n",
      "average_pooling2d_1 (Average (None, 1, 712, 256)       0         \n",
      "_________________________________________________________________\n",
      "dropout_1 (Dropout)          (None, 1, 712, 256)       0         \n",
      "_________________________________________________________________\n",
      "conv2d_3 (Conv2D)            (None, 1, 712, 512)       1180160   \n",
      "_________________________________________________________________\n",
      "conv2d_4 (Conv2D)            (None, 1, 712, 512)       2359808   \n",
      "_________________________________________________________________\n",
      "average_pooling2d_2 (Average (None, 1, 118, 512)       0         \n",
      "_________________________________________________________________\n",
      "dropout_2 (Dropout)          (None, 1, 118, 512)       0         \n",
      "_________________________________________________________________\n",
      "conv2d_5 (Conv2D)            (None, 1, 118, 768)       3539712   \n",
      "_________________________________________________________________\n",
      "conv2d_6 (Conv2D)            (None, 1, 118, 768)       5309184   \n",
      "_________________________________________________________________\n",
      "average_pooling2d_3 (Average (None, 1, 29, 768)        0         \n",
      "_________________________________________________________________\n",
      "dropout_3 (Dropout)          (None, 1, 29, 768)        0         \n",
      "_________________________________________________________________\n",
      "conv2d_7 (Conv2D)            (None, 1, 29, 1024)       7078912   \n",
      "_________________________________________________________________\n",
      "conv2d_8 (Conv2D)            (None, 1, 29, 1024)       9438208   \n",
      "_________________________________________________________________\n",
      "average_pooling2d_4 (Average (None, 1, 9, 1024)        0         \n",
      "_________________________________________________________________\n",
      "dropout_4 (Dropout)          (None, 1, 9, 1024)        0         \n",
      "_________________________________________________________________\n",
      "flatten_1 (Flatten)          (None, 9216)              0         \n",
      "_________________________________________________________________\n",
      "dense_1 (Dense)              (None, 4096)              37752832  \n",
      "_________________________________________________________________\n",
      "dropout_5 (Dropout)          (None, 4096)              0         \n",
      "_________________________________________________________________\n",
      "dense_2 (Dense)              (None, 768)               3146496   \n",
      "_________________________________________________________________\n",
      "dropout_6 (Dropout)          (None, 768)               0         \n",
      "_________________________________________________________________\n",
      "dense_3 (Dense)              (None, 2)                 1538      \n",
      "=================================================================\n",
      "Total params: 70,415,618\n",
      "Trainable params: 70,415,618\n",
      "Non-trainable params: 0\n",
      "_________________________________________________________________\n"
     ]
    }
   ],
   "source": [
    "init = keras.initializers.he_uniform(42)\n",
    "model = cnn_model(input_shape,n_classes,init,drop=0.05)\n",
    "model.add(Dense(n_classes,activation='softmax'))\n",
    "#model.load_weights('PesosB1/cruzinho-CNN-vgg-new.71-1.02-0.88-4.18-0.64.hdf5')\n",
    "model.summary()"
   ]
  },
  {
   "cell_type": "code",
   "execution_count": null,
   "metadata": {},
   "outputs": [],
   "source": [
    "sgd = SGD(lr=0.1, decay=0, momentum=0.9, nesterov=True)\n",
    "adam = Adam(lr=0.0001, beta_1=0.9, beta_2=0.999, epsilon=None, decay=0, amsgrad=False)\n",
    "nadam = Nadam(lr=0.0001, beta_1=0.9, beta_2=0.999, epsilon=None, schedule_decay=0.000001)\n",
    "adadelta = Adadelta(lr = 1)\n",
    "filepath = 'PesosB1/cruzinho-CNN-vgg-new2.{epoch:02d}-{loss:.2f}-{acc:.2f}-{val_loss:.2f}-{val_acc:.2f}.hdf5'\n",
    "cb = keras.callbacks.ModelCheckpoint(filepath, monitor='acc', verbose=0, save_best_only=True, save_weights_only=False, mode='auto', period=1)\n",
    "lr_red = keras.callbacks.ReduceLROnPlateau(monitor='acc', patience=3, verbose=1, factor=0.5, min_lr=0.000001)\n",
    "\n",
    "model.compile(optimizer = nadam, loss = 'binary_crossentropy', metrics = ['accuracy'])"
   ]
  },
  {
   "cell_type": "code",
   "execution_count": null,
   "metadata": {},
   "outputs": [
    {
     "name": "stdout",
     "output_type": "stream",
     "text": [
      "Epoch 1/75\n",
      "2723/2723 [==============================] - 1005s 369ms/step - loss: 1.7475 - acc: 0.5713 - val_loss: 1.7204 - val_acc: 0.5825\n",
      "Epoch 2/75\n",
      "2723/2723 [==============================] - 898s 330ms/step - loss: 1.5369 - acc: 0.5794 - val_loss: 2.1115 - val_acc: 0.5825\n",
      "Epoch 3/75\n",
      "2723/2723 [==============================] - 898s 330ms/step - loss: 1.4245 - acc: 0.6277 - val_loss: 3.5687 - val_acc: 0.6148\n",
      "Epoch 4/75\n",
      "2723/2723 [==============================] - 896s 329ms/step - loss: 1.4351 - acc: 0.6426 - val_loss: 3.1286 - val_acc: 0.6383\n",
      "Epoch 5/75\n",
      "2723/2723 [==============================] - 922s 339ms/step - loss: 1.2581 - acc: 0.6605 - val_loss: 1.2905 - val_acc: 0.6461\n",
      "Epoch 6/75\n",
      "2723/2723 [==============================] - 959s 352ms/step - loss: 1.3467 - acc: 0.6576 - val_loss: 1.4216 - val_acc: 0.6422\n",
      "Epoch 7/75\n",
      "2280/2723 [========================>.....] - ETA: 2:22 - loss: 1.2183 - acc: 0.6654"
     ]
    }
   ],
   "source": [
    "history = model.fit_generator(generator=my_training_batch_generator,\n",
    "                                          epochs=75,\n",
    "                                          verbose=1,\n",
    "                                          use_multiprocessing=True,\n",
    "                                          workers = 8,\n",
    "                                          max_queue_size=84, \n",
    "                                          validation_data=my_validation_batch_generator, \n",
    "                                          validation_steps=(len(test_path) // batch_size_test),\n",
    "                                          steps_per_epoch=(len(train_path) // batch_size_train),\n",
    "                                          callbacks = [cb, lr_red],\n",
    "                                          initial_epoch=0)"
   ]
  },
  {
   "cell_type": "raw",
   "metadata": {},
   "source": [
    "history = model.fit(X_train, y_train, validation_data=(X_test,y_test), batch_size=10, epochs=10, initial_epoch=0,shuffle=True)"
   ]
  },
  {
   "cell_type": "code",
   "execution_count": null,
   "metadata": {},
   "outputs": [],
   "source": [
    "plt.plot(history.history['acc'])\n",
    "plt.plot(history.history['val_acc'])\n",
    "plt.title('Model accuracy')\n",
    "plt.ylabel('Accuracy')\n",
    "plt.xlabel('Epoch')\n",
    "plt.legend(['Train', 'Test'], loc='upper left')\n",
    "plt.show()\n",
    "\n",
    "# Plot training & validation loss values\n",
    "plt.plot(history.history['loss'])\n",
    "plt.plot(history.history['val_loss'])\n",
    "plt.title('Model loss')\n",
    "plt.ylabel('Loss')\n",
    "plt.xlabel('Epoch')\n",
    "plt.legend(['Train', 'Test'], loc='upper left')\n",
    "plt.show()"
   ]
  },
  {
   "cell_type": "code",
   "execution_count": null,
   "metadata": {},
   "outputs": [],
   "source": [
    "y_test = []\n",
    "y_train = []\n",
    "\n",
    "for i in y_test_dir:\n",
    "    tmp = np.load(i)\n",
    "    y_test.append(tmp)\n",
    "\n",
    "for i in y_train_dir:\n",
    "    tmp = np.load(i)\n",
    "    y_train.append(tmp)"
   ]
  },
  {
   "cell_type": "code",
   "execution_count": null,
   "metadata": {},
   "outputs": [],
   "source": [
    "#Predict Test\n",
    "classes = ['sem falha', 'com falha']\n",
    "y_testing = np.argmax(y_test, axis =1)\n",
    "pred = model.predict_generator(my_validation_batch_generator, workers=8, use_multiprocessing=True, verbose=1,max_queue_size=64, steps=(len(test_path) // batch_size_test))\n",
    "pred = np.argmax(pred, axis = 1)\n",
    "print(classification_report(y_testing,pred,digits=4))\n",
    "cm = confusion_matrix(y_testing,pred)\n",
    "cm_plot = plot_confusion_matrix(cm, classes, normalize=True, title='')\n",
    "cm_plot.savefig('cruzin_b1_test.png',dpi = 'figure', bbox_inches='tight')"
   ]
  },
  {
   "cell_type": "code",
   "execution_count": null,
   "metadata": {},
   "outputs": [],
   "source": [
    "#Predict Train\n",
    "y_training = np.argmax(y_train, axis = 1)\n",
    "pred = model.predict_generator(my_training_batch_generator, workers=8, use_multiprocessing=True, verbose=1,max_queue_size=64, steps=(len(train_path) // batch_size_train))\n",
    "pred = np.argmax(pred, axis = 1)\n",
    "print(classification_report(y_training,pred,digits=4))\n",
    "cm = confusion_matrix(y_training,pred)\n",
    "cm_plot = plot_confusion_matrix(cm, classes, normalize=True, title='')\n",
    "cm_plot.savefig('cruzin_b1_train.png',dpi = 'figure', bbox_inches='tight')"
   ]
  },
  {
   "cell_type": "code",
   "execution_count": null,
   "metadata": {},
   "outputs": [],
   "source": []
  }
 ],
 "metadata": {
  "kernelspec": {
   "display_name": "Python [conda env:dl]",
   "language": "python",
   "name": "conda-env-dl-py"
  },
  "language_info": {
   "codemirror_mode": {
    "name": "ipython",
    "version": 3
   },
   "file_extension": ".py",
   "mimetype": "text/x-python",
   "name": "python",
   "nbconvert_exporter": "python",
   "pygments_lexer": "ipython3",
   "version": "3.6.7"
  }
 },
 "nbformat": 4,
 "nbformat_minor": 2
}
