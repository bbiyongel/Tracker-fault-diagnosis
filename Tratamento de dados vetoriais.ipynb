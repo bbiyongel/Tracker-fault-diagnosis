{
 "cells": [
  {
   "cell_type": "markdown",
   "metadata": {},
   "source": [
    "# BIBLIOTECAS USADAS"
   ]
  },
  {
   "cell_type": "code",
   "execution_count": 1,
   "metadata": {},
   "outputs": [],
   "source": [
    "import pandas as pd\n",
    "import numpy as np\n",
    "import matplotlib.pyplot as plt\n",
    "import time\n",
    "import warnings\n",
    "import glob\n",
    "import os\n",
    "import collections as cll\n",
    "%matplotlib inline\n",
    "\n",
    "warnings.filterwarnings('ignore')"
   ]
  },
  {
   "cell_type": "markdown",
   "metadata": {},
   "source": [
    "# TRATAMENTO DE DADOS"
   ]
  },
  {
   "cell_type": "code",
   "execution_count": null,
   "metadata": {
    "scrolled": true
   },
   "outputs": [],
   "source": [
    "%%time\n",
    "#Leitura de Dados\n",
    "dados = []\n",
    "\n",
    "for i in range(6984):\n",
    "    dados.append(pd.read_csv('dados/positions tratados/sem falha/' + str(i) + '.csv'))\n",
    "    \n",
    "for i in range(1972):\n",
    "    dados.append(pd.read_csv('dados/positions tratados/falha 1/' + str(i) + '.csv'))\n",
    "\n",
    "for i in range(1497):\n",
    "    dados.append(pd.read_csv('dados/positions tratados/falha 2/' + str(i) + '.csv'))\n",
    "\n",
    "for i in range(681):\n",
    "    dados.append(pd.read_csv('dados/positions tratados/falha 4/' + str(i) + '.csv'))\n",
    "        \n",
    "for i in range(12):\n",
    "    dados.append(pd.read_csv('dados/positions tratados/falha 5/' + str(i) + '.csv'))\n",
    "\n",
    "for i in range(7):\n",
    "    dados.append(pd.read_csv('dados/positions tratados/falha 6/' + str(i) + '.csv'))\n",
    "\n",
    "for i in range(7):\n",
    "    dados.append(pd.read_csv('dados/positions tratados/falha 7/' + str(i) + '.csv'))\n",
    "    \n",
    "for i in range(36):\n",
    "    dados.append(pd.read_csv('dados/positions tratados/falha 8/' + str(i) + '.csv'))\n",
    "        \n",
    "for i in range(196):\n",
    "    dados.append(pd.read_csv('dados/positions tratados/falha 9/' + str(i) + '.csv'))\n",
    "        \n",
    "for i in range(1400):\n",
    "    dados.append(pd.read_csv('dados/positions tratados/falha 10/' + str(i) + '.csv'))\n",
    "        \n",
    "for i in range(3):\n",
    "    dados.append(pd.read_csv('dados/positions tratados/falha 11/' + str(i) + '.csv'))         \n",
    "    \n",
    "for i in range(51):\n",
    "    dados.append(pd.read_csv('dados/positions tratados/falha 12/' + str(i) + '.csv')) \n",
    "        \n",
    "for i in range(1500):\n",
    "    dados.append(pd.read_csv('dados/positions tratados/falha 13/' + str(i) + '.csv')) "
   ]
  },
  {
   "cell_type": "code",
   "execution_count": 3,
   "metadata": {},
   "outputs": [
    {
     "name": "stdout",
     "output_type": "stream",
     "text": [
      "12586\n"
     ]
    }
   ],
   "source": [
    "#Cria DataFrame\n",
    "df = pd.DataFrame()\n",
    "n = len(dados)"
   ]
  },
  {
   "cell_type": "code",
   "execution_count": 4,
   "metadata": {},
   "outputs": [
    {
     "name": "stdout",
     "output_type": "stream",
     "text": [
      "CPU times: user 12.4 s, sys: 37.3 ms, total: 12.5 s\n",
      "Wall time: 12.6 s\n"
     ]
    }
   ],
   "source": [
    "%%time\n",
    "#Limpando colunas desnecessárias\n",
    "for i in range(n):\n",
    "    dados[i].drop(dados[i].columns.difference(['latitude',\n",
    "                               'longitude',\n",
    "                               'velocidade',\n",
    "                               'ignicao',\n",
    "                               'data_servidor',\n",
    "                               'odometro',\n",
    "                               'bateria',\n",
    "                               'idx_memoria',\n",
    "                               'sinal_gps',\n",
    "                               'serial']), axis = 1, inplace=True)"
   ]
  },
  {
   "cell_type": "code",
   "execution_count": null,
   "metadata": {},
   "outputs": [],
   "source": [
    "#Coloca data no DataFrame\n",
    "data = []\n",
    "for i in range(n):\n",
    "    data.append(dados[i]['data_servidor'][0].split(' ')[0])\n",
    "df['data'] = data"
   ]
  },
  {
   "cell_type": "code",
   "execution_count": null,
   "metadata": {},
   "outputs": [],
   "source": [
    "#Coloca serial do DataFrame\n",
    "serial = []\n",
    "for i in range(n):\n",
    "    serial.append(dados[i]['serial'][0])\n",
    "df['serial'] = serial"
   ]
  },
  {
   "cell_type": "code",
   "execution_count": 5,
   "metadata": {},
   "outputs": [],
   "source": [
    "#Coloca a quantidade de pontos no DataFrame\n",
    "quantidade_pontos = []\n",
    "for i in range(n):\n",
    "    quantidade_pontos.append(dados[i].shape[0])\n",
    "df['quantidade_pontos'] = quantidade_pontos"
   ]
  },
  {
   "cell_type": "code",
   "execution_count": null,
   "metadata": {},
   "outputs": [],
   "source": [
    "%%time\n",
    "quantidade_pulos_gps = []\n",
    "for i in range(n):\n",
    "    cont = 0\n",
    "    for j in range(df['quantidade_pontos'][i] - 1):\n",
    "        pul_lon = False\n",
    "        pul_lat = False\n",
    "        if abs(float(dados[i]['longitude'][j]) - float(dados[i]['longitude'][j+1])) > 0.6:\n",
    "            pul_lon = True\n",
    "        if abs(float(dados[i]['latitude'][j]) - float(dados[i]['latitude'][j+1])) > 0.6:\n",
    "            pul_lat = True\n",
    "        if pul_lat or pul_lon:\n",
    "            cont +=1\n",
    "    quantidade_pulos_gps.append(cont)\n",
    "df['quantidade_pulos_gps'] = quantidade_pulos_gps"
   ]
  },
  {
   "cell_type": "code",
   "execution_count": null,
   "metadata": {},
   "outputs": [],
   "source": [
    "#Coloca variacao da longitude no DataFrame\n",
    "variacao_lon = []\n",
    "tmp = False\n",
    "for i in range(n):\n",
    "    for j in range(df['quantidade_pontos'][i] - 1):\n",
    "        tmp = False\n",
    "        if abs(float(dados[i]['longitude'][j]) - float(dados[i]['longitude'][j+1])) > 0.000003:\n",
    "            variacao_lon.append(1)\n",
    "            tmp = True\n",
    "            break\n",
    "    if tmp == False:\n",
    "        variacao_lon.append(0)\n",
    "        \n",
    "df['variacao_lon'] = variacao_lon"
   ]
  },
  {
   "cell_type": "code",
   "execution_count": null,
   "metadata": {},
   "outputs": [],
   "source": [
    "#Coloca variacao da latitude no DataFrame\n",
    "variacao_lat = []\n",
    "tmp = False\n",
    "for i in range(n):\n",
    "    for j in range(df['quantidade_pontos'][i] - 1):\n",
    "        tmp = False\n",
    "        if abs(float(dados[i]['latitude'][j]) - float(dados[i]['latitude'][j+1])) > 0.000003:\n",
    "            variacao_lat.append(1)\n",
    "            tmp = True\n",
    "            break\n",
    "    if tmp == False:\n",
    "        variacao_lat.append(0)\n",
    "\n",
    "df['variacao_lat'] = variacao_lat"
   ]
  },
  {
   "cell_type": "code",
   "execution_count": null,
   "metadata": {
    "scrolled": true
   },
   "outputs": [],
   "source": [
    "#Coloca a variação da ignicao no DataFrame\n",
    "variacao_ignicao = []\n",
    "for i in range(n):\n",
    "    for j in range(df['quantidade_pontos'][i] - 1):\n",
    "        tmp = False\n",
    "        if dados[i]['ignicao'][j] != dados[i]['ignicao'][j+1]:\n",
    "            variacao_ignicao.append(1)\n",
    "            tmp = True\n",
    "            break\n",
    "    if tmp == False:\n",
    "        variacao_ignicao.append(0)\n",
    "\n",
    "df['variacao_ignicao'] = variacao_ignicao"
   ]
  },
  {
   "cell_type": "code",
   "execution_count": null,
   "metadata": {},
   "outputs": [],
   "source": [
    "#Colocando a variacao do Odometro no DataFrame\n",
    "variacao_odometro = []\n",
    "tmp = False\n",
    "for i in range(n):\n",
    "    for j in range(df['quantidade_pontos'][i] - 1):\n",
    "        tmp = False\n",
    "        if type(dados[i]['odometro'][0]) != str:\n",
    "            if abs(float(dados[i]['odometro'][j]) - float(dados[i]['odometro'][j+1])) > 0.1:\n",
    "                variacao_odometro.append(1)\n",
    "                tmp = True\n",
    "                break\n",
    "    if tmp == False:\n",
    "        variacao_odometro.append(0)\n",
    "df['variacao_odometro'] = variacao_odometro"
   ]
  },
  {
   "cell_type": "code",
   "execution_count": null,
   "metadata": {
    "scrolled": true
   },
   "outputs": [],
   "source": [
    "#Colocando a variacao de velocidade no DataFrame\n",
    "variacao_velocidade = []\n",
    "for i in range(n):\n",
    "    for j in range(df['quantidade_pontos'][i] - 1):\n",
    "        tmp = False\n",
    "        if dados[i]['velocidade'][j] != dados[i]['velocidade'][j+1]:\n",
    "            variacao_velocidade.append(1)\n",
    "            tmp = True\n",
    "            break\n",
    "    if tmp == False:\n",
    "        variacao_velocidade.append(0)\n",
    "df['variacao_velocidade'] = variacao_velocidade"
   ]
  },
  {
   "cell_type": "code",
   "execution_count": null,
   "metadata": {},
   "outputs": [],
   "source": [
    "#Colocando tensoes da bateria no DataFrame\n",
    "tensao_bateria_min = []\n",
    "tensao_bateria_max = []\n",
    "tensao_bateria_min_igon = []\n",
    "tensao_bateria_max_igon = []\n",
    "tensao_bateria_min_igoff = []\n",
    "tensao_bateria_max_igoff = []\n",
    "variacao_tensao_bateria = []\n",
    "\n",
    "for i in range(n):\n",
    "    min, min_igon, min_igoff = 50, 50, 50\n",
    "    max, max_igon, max_igoff = 0, 0, 0 \n",
    "    \n",
    "    for j in range(df['quantidade_pontos'][i]):\n",
    "        if float(dados[i]['bateria'][j]) < min:\n",
    "            min = float(dados[i]['bateria'][j])\n",
    "        if float(dados[i]['bateria'][j]) > max:\n",
    "            max = float(dados[i]['bateria'][j])\n",
    "        if float(dados[i]['bateria'][j]) < min_igon and dados[i]['ignicao'][j] == 1:\n",
    "            min_igon = float(dados[i]['bateria'][j])\n",
    "        if float(dados[i]['bateria'][j]) > max_igon and dados[i]['ignicao'][j] == 1:\n",
    "            max_igon = float(dados[i]['bateria'][j])\n",
    "        if float(dados[i]['bateria'][j]) < min_igoff and dados[i]['ignicao'][j] == 0:\n",
    "            min_igoff = float(dados[i]['bateria'][j])\n",
    "        if float(dados[i]['bateria'][j]) > max_igoff and dados[i]['ignicao'][j] == 0:\n",
    "            max_igoff = float(dados[i]['bateria'][j])\n",
    "            \n",
    "    tensao_bateria_min.append(min)\n",
    "    tensao_bateria_max.append(max)\n",
    "    if min_igon == 50:\n",
    "        tensao_bateria_min_igon.append(0)\n",
    "    else:\n",
    "        tensao_bateria_min_igon.append(min_igon)\n",
    "        \n",
    "    tensao_bateria_max_igon.append(max_igon)\n",
    "    tensao_bateria_min_igoff.append(min_igoff)\n",
    "    tensao_bateria_max_igoff.append(max_igoff)\n",
    "    variacao_tensao_bateria.append(max - min)\n",
    "    \n",
    "df['tensao_bateria_min'] = tensao_bateria_min\n",
    "df['tensao_bateria_max'] = tensao_bateria_max\n",
    "df['tensao_bateria_min_igon'] = tensao_bateria_min_igon\n",
    "df['tensao_bateria_max_igon'] = tensao_bateria_max_igon\n",
    "df['tensao_bateria_min_igoff'] = tensao_bateria_min_igoff\n",
    "df['tensao_bateria_max_igoff'] = tensao_bateria_max_igoff\n",
    "df['variacao_tensao_bateria'] = variacao_tensao_bateria"
   ]
  },
  {
   "cell_type": "code",
   "execution_count": null,
   "metadata": {},
   "outputs": [],
   "source": [
    "#Coloca bateriaRMS no DataFrame\n",
    "bateriaRMS = []\n",
    "for i in range(n):\n",
    "    rms = 0\n",
    "    for j in range(df['quantidade_pontos'][i]):\n",
    "        rms = rms + float(dados[i]['bateria'][j])**2\n",
    "    rms = rms / df['quantidade_pontos'][i]\n",
    "    bateriaRMS.append(rms ** 0.5)\n",
    "\n",
    "df['bateria_RMS'] = bateriaRMS"
   ]
  },
  {
   "cell_type": "code",
   "execution_count": null,
   "metadata": {},
   "outputs": [],
   "source": [
    "#Colocando pulos de idx no DataFrame\n",
    "maior_pulo_idx_positivo = []\n",
    "maior_pulo_idx_negativo = []\n",
    "numero_pulos_idx = []\n",
    "    \n",
    "for i in range(n):\n",
    "    pos, cont = 0, 0\n",
    "    neg = 99999\n",
    "    for j in range(df['quantidade_pontos'][i] - 1):\n",
    "        if dados[i]['idx_memoria'][j+1] > dados[i]['idx_memoria'][j] + 1:\n",
    "            cont = cont + 1\n",
    "            if pos < dados[i]['idx_memoria'][j+1] - dados[i]['idx_memoria'][j]:\n",
    "                pos = dados[i]['idx_memoria'][j+1] - dados[i]['idx_memoria'][j]\n",
    "        if dados[i]['idx_memoria'][j+1] < dados[i]['idx_memoria'][j]:\n",
    "            cont = cont + 1\n",
    "            if neg > dados[i]['idx_memoria'][j+1] - dados[i]['idx_memoria'][j]:\n",
    "                neg = dados[i]['idx_memoria'][j+1] - dados[i]['idx_memoria'][j]\n",
    "    maior_pulo_idx_positivo.append(pos)\n",
    "    if neg == 99999:\n",
    "        maior_pulo_idx_negativo.append(0)\n",
    "    else:\n",
    "        maior_pulo_idx_negativo.append(neg)\n",
    "    numero_pulos_idx.append(cont)\n",
    "    print(i)\n",
    "df['maior_pulo_negativo_idx'] = maior_pulo_idx_negativo\n",
    "df['maior_pulo_positivo_idx'] = maior_pulo_idx_positivo\n",
    "df['numero_pulos_idx'] = numero_pulos_idx"
   ]
  },
  {
   "cell_type": "code",
   "execution_count": null,
   "metadata": {},
   "outputs": [],
   "source": [
    "#Colocando quantidade de pontos do gps no DataFrame\n",
    "quantidade_pontos_gps_valido = []\n",
    "quantidade_pontos_gps_invalido = []\n",
    "\n",
    "for i in range(n):\n",
    "    q_valido = 0\n",
    "    for j in range(df['quantidade_pontos'][i]):\n",
    "        if dados[i]['sinal_gps'][j] == 1:\n",
    "            q_valido = q_valido + 1\n",
    "    quantidade_pontos_gps_valido.append(q_valido)\n",
    "    quantidade_pontos_gps_invalido.append(df['quantidade_pontos'][i] - q_valido)\n",
    "\n",
    "df['quantidade_pontos_gps_valido'] = quantidade_pontos_gps_valido\n",
    "df['quantidade_pontos_gps_invalido'] = quantidade_pontos_gps_invalido"
   ]
  },
  {
   "cell_type": "code",
   "execution_count": null,
   "metadata": {},
   "outputs": [],
   "source": [
    "df.to_csv('especilista_sem_label.csv')"
   ]
  },
  {
   "cell_type": "markdown",
   "metadata": {},
   "source": [
    "# Rotulação dos dados"
   ]
  },
  {
   "cell_type": "code",
   "execution_count": null,
   "metadata": {},
   "outputs": [],
   "source": [
    "#falhas = pd.read_csv('sinapse-deteccao-falhas.falhas.csv')\n",
    "falhas = pd.read_csv('rel_falhas_tudo.csv')\n",
    "df = pd.read_csv('especilista_sem_label.csv')\n",
    "df = df.drop(['Unnamed: 0'], axis=1)"
   ]
  },
  {
   "cell_type": "code",
   "execution_count": null,
   "metadata": {},
   "outputs": [],
   "source": [
    "#Formata o campo data nas Falhas\n",
    "def mes_StringToNumString(x):\n",
    "    return {\n",
    "        'Jan': '01',\n",
    "        'Feb': '02',\n",
    "        'Mar': '03',\n",
    "        'Apr': '04',\n",
    "        'May': '05',\n",
    "        'Jun': '06',\n",
    "        'Jul': '07',\n",
    "        'Ago': '08',\n",
    "        'Sep': '09',\n",
    "        'Oct': '10',\n",
    "        'Nov': '11',\n",
    "        'Dec': '12'\n",
    "    }.get(x, '00')  \n",
    "\n",
    "for i in range(len(falhas)):\n",
    "    s = falhas['data'][i].split(',')\n",
    "    tmp = s[0].split(' ')\n",
    "    mes = tmp[0] \n",
    "    mes = mes_StringToNumString(mes)\n",
    "    dia = tmp[1]\n",
    "    ano = s[1].split(' ')[1]\n",
    "    falhas['data'][i] = dia + '/' + mes + '/' + ano\n",
    "    print(i)\n",
    "falhas.to_csv('Falhas28-11_transf.csv')"
   ]
  },
  {
   "cell_type": "code",
   "execution_count": null,
   "metadata": {},
   "outputs": [],
   "source": [
    "%%time\n",
    "#Coloca qual falha existe no DataFrame\n",
    "fault = []\n",
    "for i in range(len(df)):\n",
    "    for j in range(len(falhas)):\n",
    "        if str(df['serial'][i]) == falhas['serial'][j] and df['data'][i] == falhas['data'][j]:\n",
    "            index = j\n",
    "            break\n",
    "    print(i)\n",
    "    fault.append(falhas['falhas'][index])\n",
    "df['falhas'] = fault"
   ]
  },
  {
   "cell_type": "code",
   "execution_count": null,
   "metadata": {},
   "outputs": [],
   "source": [
    "#Coloca possui_falhas no DataFrame\n",
    "possui_falhas = []\n",
    "for i in range(len(df)):\n",
    "    if df['falhas_novo'][i] == '[]':\n",
    "        possui_falhas.append(0)\n",
    "    else:\n",
    "        possui_falhas.append(1)\n",
    "\n",
    "df['possui_falhas'] = possui_falhas"
   ]
  },
  {
   "cell_type": "code",
   "execution_count": null,
   "metadata": {},
   "outputs": [],
   "source": [
    "df.to_csv('especialista.csv')"
   ]
  }
 ],
 "metadata": {
  "kernelspec": {
   "display_name": "Python [conda env:dl]",
   "language": "python",
   "name": "conda-env-dl-py"
  },
  "language_info": {
   "codemirror_mode": {
    "name": "ipython",
    "version": 3
   },
   "file_extension": ".py",
   "mimetype": "text/x-python",
   "name": "python",
   "nbconvert_exporter": "python",
   "pygments_lexer": "ipython3",
   "version": "3.6.8"
  }
 },
 "nbformat": 4,
 "nbformat_minor": 2
}
