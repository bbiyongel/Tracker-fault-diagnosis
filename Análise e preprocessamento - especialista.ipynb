{
 "cells": [
  {
   "cell_type": "markdown",
   "metadata": {},
   "source": [
    "# Diagnóstico de falhas"
   ]
  },
  {
   "cell_type": "code",
   "execution_count": null,
   "metadata": {},
   "outputs": [],
   "source": [
    "import pandas as pd\n",
    "import numpy as np\n",
    "import matplotlib.pyplot as plt\n",
    "import seaborn as sns\n",
    "import collections as cll\n",
    "import time\n",
    "import glob\n",
    "import os\n",
    "from sklearn import preprocessing\n",
    "\n",
    "%matplotlib inline"
   ]
  },
  {
   "cell_type": "code",
   "execution_count": null,
   "metadata": {},
   "outputs": [],
   "source": [
    "# Leitura de dados\n",
    "df = pd.read_csv('df_sem_tratamento.csv')\n",
    "# df = pd.read_csv('df_less.csv')\n",
    "#df.drop(['Unnamed: 0','possui_falhas_novo', 'falha_manual', 'possui_falhas_manual', 'falhas_novo'], inplace=True, axis = 1)"
   ]
  },
  {
   "cell_type": "code",
   "execution_count": null,
   "metadata": {},
   "outputs": [],
   "source": [
    "df.info()"
   ]
  },
  {
   "cell_type": "code",
   "execution_count": null,
   "metadata": {},
   "outputs": [],
   "source": [
    "df.describe()"
   ]
  },
  {
   "cell_type": "code",
   "execution_count": null,
   "metadata": {},
   "outputs": [],
   "source": [
    "cll.Counter(df['falhas'])"
   ]
  },
  {
   "cell_type": "code",
   "execution_count": null,
   "metadata": {},
   "outputs": [],
   "source": [
    "for i in range(len(df)):\n",
    "    if df['falhas'][i] != '[]' and df['falhas'][i] != '[2]' and df['falhas'][i] != '[3]' and df['falhas'][i] != '[4]' and df['falhas'][i] != '[8]':\n",
    "        df['falhas'][i] = '[outras]'"
   ]
  },
  {
   "cell_type": "code",
   "execution_count": null,
   "metadata": {},
   "outputs": [],
   "source": [
    "plt.figure(figsize=(8,8))\n",
    "plt.pie(df['falhas'].value_counts(), labels = df['falhas'].value_counts().index, autopct='%1.1f%%')\n",
    "plt.savefig('quantfalhas_pizza.png',bbox_inches='tight')"
   ]
  },
  {
   "cell_type": "code",
   "execution_count": null,
   "metadata": {},
   "outputs": [],
   "source": [
    "plt.figure(figsize=(6,4))\n",
    "qfalhas2_plot = sns.countplot(x = 'variacao_velocidade', data = df)\n",
    "qfalhas2 = qfalhas2_plot.get_figure()\n",
    "qfalhas2.savefig('vv.png')"
   ]
  },
  {
   "cell_type": "code",
   "execution_count": null,
   "metadata": {},
   "outputs": [],
   "source": [
    "plot = sns.pairplot(data = df, hue = 'possui_falhas')\n",
    "plot.savefig('pairplot.png')"
   ]
  },
  {
   "cell_type": "code",
   "execution_count": null,
   "metadata": {},
   "outputs": [],
   "source": [
    "plt.figure(figsize=(12,12))\n",
    "heatmap_plot = sns.heatmap(df.corr(),cmap='coolwarm')\n",
    "heatmap = heatmap_plot.get_figure()\n",
    "heatmap.savefig('heatmap.png')"
   ]
  },
  {
   "cell_type": "markdown",
   "metadata": {},
   "source": [
    "### Normalização"
   ]
  },
  {
   "cell_type": "code",
   "execution_count": null,
   "metadata": {},
   "outputs": [],
   "source": [
    "df['quantidade_pontos'] = preprocessing.RobustScaler().fit_transform((df[['quantidade_pontos']]))\n",
    "df['tensao_bateria_max'] = preprocessing.RobustScaler().fit_transform((df[['tensao_bateria_max']]))\n",
    "df['tensao_bateria_min'] = preprocessing.RobustScaler().fit_transform((df[['tensao_bateria_min']]))\n",
    "df['tensao_bateria_min_igon'] = preprocessing.RobustScaler().fit_transform((df[['tensao_bateria_min_igon']]))\n",
    "df['tensao_bateria_max_igon'] = preprocessing.RobustScaler().fit_transform((df[['tensao_bateria_max_igon']]))\n",
    "df['tensao_bateria_min_igoff'] = preprocessing.RobustScaler().fit_transform((df[['tensao_bateria_min_igoff']]))\n",
    "df['tensao_bateria_max_igoff'] = preprocessing.RobustScaler().fit_transform((df[['tensao_bateria_max_igoff']]))\n",
    "df['variacao_tensao_bateria'] = preprocessing.RobustScaler().fit_transform((df[['variacao_tensao_bateria']]))\n",
    "df['maior_pulo_negativo_idx'] = preprocessing.RobustScaler().fit_transform((df[['maior_pulo_negativo_idx']]))\n",
    "df['maior_pulo_positivo_idx'] = preprocessing.RobustScaler().fit_transform((df[['maior_pulo_positivo_idx']]))\n",
    "df['numero_pulos_idx'] = preprocessing.RobustScaler().fit_transform((df[['numero_pulos_idx']]))\n",
    "df['numero_saltos_gps'] = preprocessing.RobustScaler().fit_transform((df[['numero_saltos_gps']]))\n",
    "df['quantidade_pontos_gps_valido'] = preprocessing.RobustScaler().fit_transform((df[['quantidade_pontos_gps_valido']]))\n",
    "df['quantidade_pontos_gps_invalido'] = preprocessing.RobustScaler().fit_transform((df[['quantidade_pontos_gps_invalido']]))\n",
    "df['bateria_RMS'] = preprocessing.RobustScaler().fit_transform((df[['bateria_RMS']]))\n",
    "df['numero_saltos_gps'] = preprocessing.RobustScaler().fit_transform((df[['numero_saltos_gps']]))"
   ]
  },
  {
   "cell_type": "code",
   "execution_count": null,
   "metadata": {},
   "outputs": [],
   "source": [
    "df.columns"
   ]
  },
  {
   "cell_type": "code",
   "execution_count": null,
   "metadata": {},
   "outputs": [],
   "source": [
    "df.drop(['serial', 'data', 'quantidade_pontos'], axis = 1, inplace=True)"
   ]
  },
  {
   "cell_type": "markdown",
   "metadata": {},
   "source": [
    "# Exportar dados"
   ]
  },
  {
   "cell_type": "code",
   "execution_count": null,
   "metadata": {},
   "outputs": [],
   "source": [
    "df.to_csv('especialista.csv', index=False)"
   ]
  }
 ],
 "metadata": {
  "kernelspec": {
   "display_name": "Python [conda env:dl]",
   "language": "python",
   "name": "conda-env-dl-py"
  },
  "language_info": {
   "codemirror_mode": {
    "name": "ipython",
    "version": 3
   },
   "file_extension": ".py",
   "mimetype": "text/x-python",
   "name": "python",
   "nbconvert_exporter": "python",
   "pygments_lexer": "ipython3",
   "version": "3.6.8"
  }
 },
 "nbformat": 4,
 "nbformat_minor": 2
}
