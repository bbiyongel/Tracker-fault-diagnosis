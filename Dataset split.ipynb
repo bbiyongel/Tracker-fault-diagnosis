{
 "cells": [
  {
   "cell_type": "code",
   "execution_count": null,
   "metadata": {},
   "outputs": [],
   "source": [
    "import numpy as np\n",
    "import pandas as pd\n",
    "import warnings\n",
    "from imblearn.under_sampling import RandomUnderSampler\n",
    "warnings.filterwarnings('ignore')"
   ]
  },
  {
   "cell_type": "code",
   "execution_count": null,
   "metadata": {},
   "outputs": [],
   "source": [
    "df = pd.read_csv('especialista.csv')"
   ]
  },
  {
   "cell_type": "code",
   "execution_count": null,
   "metadata": {},
   "outputs": [],
   "source": [
    "rus = RandomUnderSampler(random_state=42)\n",
    "X, y = rus.fit_sample(X, y)\n",
    "X_train, X_test, y_train, y_test = train_test_split(X, y, test_size=0.2, random_state = 42)"
   ]
  },
  {
   "cell_type": "code",
   "execution_count": null,
   "metadata": {},
   "outputs": [],
   "source": [
    "train_idxs = []\n",
    "test_idxs = []\n",
    "\n",
    "for i in range(len(X_train)):\n",
    "    train_idxs.append(int(X_train[i][0]))\n",
    "    \n",
    "for i in range(len(X_test)):\n",
    "    test_idxs.append(int(X_test[i][0]))  \n",
    "    \n",
    "X_train = pd.DataFrame(X_train, columns=df.columns)\n",
    "X_train = X_train.set_index('Unnamed: 0')\n",
    "X_test = pd.DataFrame(X_test, columns=df.columns)\n",
    "X_test = X_test.set_index('Unnamed: 0')"
   ]
  },
  {
   "cell_type": "code",
   "execution_count": null,
   "metadata": {},
   "outputs": [],
   "source": [
    "%%time\n",
    "for i in train_idxs:\n",
    "    tmp = pd.read_csv('../dados/positions_padded/' + str(i) + '.csv')\n",
    "    if X_train['possui_falhas'][i] == 1:\n",
    "        np.save('/dados/labels/B1_y_train/' + str(i) + '.npy', np.array([0, 1]))  \n",
    "    else:\n",
    "        np.save('/dados/labels/B1_y_train/' + str(i) + '.npy', np.array([1, 0]))    \n",
    "    np.save('/dados/trainB1/' + str(i) + '.npy',np.asarray(tmp))\n",
    "        \n",
    "for i in test_idxs:\n",
    "    tmp = pd.read_csv('../dados/cruzinho_padded/' + str(i) + '.csv')\n",
    "    if X_test['possui_falhas'][i] == 1:        \n",
    "        np.save('/dados/labels/B1_y_test/' + str(i) + '.npy', np.array([0, 1]))  \n",
    "    else:\n",
    "        np.save('/dados/labels/B1_y_test/' + str(i) + '.npy', np.array([1, 0])) \n",
    "    np.save('/dados/testB1/' + str(i) + '.npy',np.asarray(tmp))"
   ]
  },
  {
   "cell_type": "code",
   "execution_count": null,
   "metadata": {},
   "outputs": [],
   "source": [
    "%%time\n",
    "for i in train_idxs:\n",
    "    tmp = pd.read_csv('/dados/positions_padded/' + str(i) + '.csv')\n",
    "    if X_train['falhas'][i] == '[2]':\n",
    "        np.save('/dados/labels/B2_y_train/' + str(i) + '.npy', np.array([1, 0, 0, 0, 0]))  \n",
    "    elif X_train['falhas'][i] == '[3]':\n",
    "        np.save('/dados/labels/B2_y_train/' + str(i) + '.npy', np.array([0, 1, 0, 0, 0]))    \n",
    "    elif X_train['falhas'][i] == '[4]':\n",
    "        np.save('/dados/labels/B2_y_train/' + str(i) + '.npy', np.array([0, 0, 1, 0, 0]))    \n",
    "    elif X_train['falhas'][i] == '[]':\n",
    "        np.save('/dados/labels/B2_y_train/' + str(i) + '.npy', np.array([0, 0, 0, 1, 0]))\n",
    "    else:\n",
    "        np.save('/dados/labels/B2_y_train/' + str(i) + '.npy', np.array([0, 0, 0, 0, 1]))  \n",
    "        \n",
    "    np.save('/dados/trainB2/' + str(i) + '.npy',np.asarray(tmp))\n",
    "        \n",
    "for i in test_idxs:\n",
    "    tmp = pd.read_csv('../dados/cruzinho_padded/' + str(i) + '.csv')\n",
    "    if X_test['falhas'][i] == '[2]':\n",
    "        np.save('/dados/labels/B2_y_test/' + str(i) + '.npy', np.array([1, 0, 0, 0, 0]))  \n",
    "    elif X_test['falhas'][i] == '[3]':\n",
    "        np.save('/dados/labels/B2_y_test/' + str(i) + '.npy', np.array([0, 1, 0, 0, 0]))    \n",
    "    elif X_test['falhas'][i] == '[4]':\n",
    "        np.save('/dados/labels/B2_y_test/' + str(i) + '.npy', np.array([0, 0, 1, 0, 0]))    \n",
    "    elif X_test['falhas'][i] == '[]':\n",
    "        np.save('/dados/labels/B2_y_test/' + str(i) + '.npy', np.array([0, 0, 0, 1, 0]))\n",
    "    else:\n",
    "        np.save('/dados/labels/B2_y_test/' + str(i) + '.npy', np.array([0, 0, 0, 0, 1]))\n",
    "        \n",
    "    np.save('/dados/testB2/' + str(i) + '.npy',np.asarray(tmp))"
   ]
  }
 ],
 "metadata": {
  "kernelspec": {
   "display_name": "Python [conda env:dl]",
   "language": "python",
   "name": "conda-env-dl-py"
  },
  "language_info": {
   "codemirror_mode": {
    "name": "ipython",
    "version": 3
   },
   "file_extension": ".py",
   "mimetype": "text/x-python",
   "name": "python",
   "nbconvert_exporter": "python",
   "pygments_lexer": "ipython3",
   "version": "3.6.8"
  }
 },
 "nbformat": 4,
 "nbformat_minor": 2
}
